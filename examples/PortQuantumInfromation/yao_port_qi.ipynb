{
 "cells": [
  {
   "cell_type": "markdown",
   "metadata": {},
   "source": [
    "# Porting Yao.jl with QuantumInformation.jl\n",
    "### GiggleLiu"
   ]
  },
  {
   "cell_type": "markdown",
   "metadata": {},
   "source": [
    "# overview\n",
    "\n",
    " [`Yao`](https://github.com/QuantumBFS/Yao.jl) is a powerful tool for quantum circuit based simulation, but it does not support many density matrix related operations. This is why we need to port `Yao.jl` with [`QuantumInformation (QI)`](https://github.com/QuantumBFS/QuantumInformation.jl) sometimes (e.g. for computing entanglement entropy).\n",
    " \n",
    "* `Yao.jl` Documentation: https://quantumbfs.github.io/Yao.jl/latest/ (paper is comming out)\n",
    "* `QuantumInformation.jl` paper: https://arxiv.org/abs/1806.11464\n",
    "     \n",
    "### `Yao` provides\n",
    "* high performance quantum circuit based simulation\n",
    "    * parameter management\n",
    "    * gradients\n",
    "    * batched regiser\n",
    "* automatic differentiation\n",
    "* operator matrix representation and arithmatics\n",
    "* [quantum algorithms](https://github.com/QuantumBFS/QuAlgorithmZoo.jl)\n",
    "* [GPU support](https://github.com/QuantumBFS/CuYao.jl)\n",
    "* basic density matrix simulation\n",
    "* basic symbolic simulation\n",
    "* qudits\n",
    "\n",
    "### `QI` provides\n",
    "\n",
    "* Compute entropy from density matrices\n",
    "* Quantum channels, four types of channel representations\n",
    "    * Kraus Operator\n",
    "    * Super operator\n",
    "    * Dynamic matrices\n",
    "    * Stinespring representation\n",
    "* Compute norm, distance and distingushability between \"states\" (density matrices)\n",
    "    * Hilbert–Schmidt norm and distance\n",
    "    * trace norm and *distance*\n",
    "    * diamond norm\n",
    "    * Bures distane and Bures angles\n",
    "    * *fidelity* and superfidelity\n",
    "    * KL-divergence\n",
    "    * JS-distance\n",
    "* Compute the amount of entanglement\n",
    "     * negativity\n",
    "     * positive partial trace\n",
    "     * concurrence\n",
    "* POVM measurements"
   ]
  },
  {
   "cell_type": "code",
   "execution_count": 2,
   "metadata": {},
   "outputs": [
    {
     "name": "stderr",
     "output_type": "stream",
     "text": [
      "┌ Info: Precompiling QuantumInformation [3c0b384b-479c-5684-b2ef-9d7a46dd931e]\n",
      "└ @ Base loading.jl:1423\n",
      "\u001b[33m\u001b[1m┌ \u001b[22m\u001b[39m\u001b[33m\u001b[1mWarning: \u001b[22m\u001b[39mplease replace index ranges like `i:3` with `i in 1:3` or `i ∈ 1:3`\n",
      "\u001b[33m\u001b[1m│ \u001b[22m\u001b[39m  call.string = \"@cast x[i, j] := ϕ[(j, i)]  j:cols\"\n",
      "\u001b[33m\u001b[1m└ \u001b[22m\u001b[39m\u001b[90m@ TensorCast ~/.julia/packages/TensorCast/eabry/src/macro.jl:1040\u001b[39m\n"
     ]
    }
   ],
   "source": [
    "import Yao\n",
    "using Yao: arrayreg, ρ, mat, ConstGate, purify, exchange_sysenv, @bit_str, statevec\n",
    "import QuantumInformation; const QI = QuantumInformation\n",
    "using QuantumInformation: ket\n",
    "using LinearAlgebra\n",
    "using Test"
   ]
  },
  {
   "cell_type": "markdown",
   "metadata": {},
   "source": [
    "Obtain reduced density matrices in Yao\n",
    "-------------------------\n",
    "The memory layout of `Yao` register and `QI` ket are similar, their basis are both [little endian](https://en.wikipedia.org/wiki/Endianness), despite they have different representation powers\n",
    "\n",
    "* `Yao` support batch,\n",
    "* `QI` is not limited to qubits.\n",
    "\n",
    "\n",
    "`Yao` does not have much operations defined on density matrices, but purified states with environment,\n",
    "On the other side, most operations in `QI` are defined on **(density) matrices**, they can be easily obtained in `Yao`."
   ]
  },
  {
   "cell_type": "code",
   "execution_count": 17,
   "metadata": {},
   "outputs": [
    {
     "data": {
      "text/plain": [
       "\u001b[32m\u001b[1mTest Passed\u001b[22m\u001b[39m"
      ]
     },
     "execution_count": 17,
     "metadata": {},
     "output_type": "execute_result"
    }
   ],
   "source": [
    "# construct a product state, notice the indexing in `QI` starts from `1`\n",
    "@test QI.ket(3, 1<<4) ≈ statevec(arrayreg(bit\"0010\"))\n",
    "\n",
    "# join two registers, notice little endian convension is used here.\n",
    "reg = join(arrayreg(bit\"10\"), arrayreg(bit\"11\"))\n",
    "v = QI.:⊗(QI.ket(0b10+1,1<<2), QI.ket(0b11+1,1<<2))\n",
    "@test statevec(reg) ≈ v"
   ]
  },
  {
   "cell_type": "code",
   "execution_count": 3,
   "metadata": {
    "scrolled": true
   },
   "outputs": [
    {
     "data": {
      "text/plain": [
       "16×16 Matrix{ComplexF64}:\n",
       "    0.0613256+0.0im          …    -0.0014683+0.00421717im\n",
       "   0.00114577+0.00251627im      -0.000582502+0.00320995im\n",
       "  -0.00745463-0.00584969im      -0.000252047-0.000884078im\n",
       "  -0.00701895+0.00197244im        0.00718725+0.00547219im\n",
       "   0.00391836+0.00974869im        -0.0022324-0.00455249im\n",
       "   0.00526156+0.00459629im   …   -0.00292748-0.000824591im\n",
       " -0.000327233-0.00981608im       -0.00208897-0.00124306im\n",
       " -0.000401732+0.00678579im       -0.00731678-0.0106494im\n",
       "    6.8507e-5-0.00321467im       -0.00483906-0.00658371im\n",
       "   0.00485445-0.00129369im        -0.0030162+0.00357678im\n",
       "  0.000588632-0.000120666im  …    0.00223251+0.000401994im\n",
       "  -0.00578016+0.0117884im         0.00258094+0.00177805im\n",
       "    0.0047982+0.00077583im       -0.00604365+0.00209272im\n",
       "  -0.00187469+0.00304266im        -0.0010979+0.00707576im\n",
       "  -0.00133934+0.00576856im        -0.0066598-0.00013793im\n",
       "   -0.0014683-0.00421717im   …     0.0576982+0.0im"
      ]
     },
     "execution_count": 3,
     "metadata": {},
     "output_type": "execute_result"
    }
   ],
   "source": [
    "# e.g. obtain a reduced denstiy matrix for subsystem 1,2,3,4\n",
    "reg = Yao.rand_state(10)\n",
    "rho = Yao.density_matrix(reg, 1:4) # make qubits 1-4 active\n",
    "rho.state"
   ]
  },
  {
   "cell_type": "markdown",
   "metadata": {},
   "source": [
    "One can also convert a density matrix to a a quantum state through **purification**"
   ]
  },
  {
   "cell_type": "code",
   "execution_count": 5,
   "metadata": {},
   "outputs": [
    {
     "data": {
      "text/plain": [
       "\u001b[32m\u001b[1mTest Passed\u001b[22m\u001b[39m\n",
       "  Expression: (Yao.fidelity(reg, reg_p))[] ≈ 1\n",
       "   Evaluated: 1.0000000000000002 ≈ 1"
      ]
     },
     "execution_count": 5,
     "metadata": {},
     "output_type": "execute_result"
    }
   ],
   "source": [
    "# e.g. purify a state and recover it\n",
    "reg = Yao.rand_state(6) |> Yao.focus!(1:4)\n",
    "reg_p = purify(reg |> ρ; num_env=2)\n",
    "@test Yao.fidelity(reg, reg_p)[] ≈ 1"
   ]
  },
  {
   "cell_type": "markdown",
   "metadata": {},
   "source": [
    "entanglement & state distance\n",
    "----------------\n"
   ]
  },
  {
   "cell_type": "code",
   "execution_count": 8,
   "metadata": {},
   "outputs": [
    {
     "data": {
      "text/plain": [
       "\u001b[32m\u001b[1mTest Passed\u001b[22m\u001b[39m\n",
       "  Expression: (Yao.tracedist(freg1, freg2))[] / 2 ≈ QI.trace_distance(dm1.state, dm2.state)\n",
       "   Evaluated: 0.7916813951218918 ≈ 0.7916813951218918"
      ]
     },
     "execution_count": 8,
     "metadata": {},
     "output_type": "execute_result"
    }
   ],
   "source": [
    "reg1 = Yao.rand_state(10)\n",
    "freg1 = Yao.focus!(reg1, 1:4)\n",
    "reg2 = Yao.rand_state(6)\n",
    "freg2 = Yao.focus!(reg2, 1:4)\n",
    "dm1, dm2 = freg1 |> Yao.density_matrix, freg2 |> Yao.density_matrix\n",
    "\n",
    "# trace distance between two registers (different by a factor 2)\n",
    "@test Yao.tracedist(freg1, freg2)[]/2 ≈ QI.trace_distance(dm1.state, dm2.state)"
   ]
  },
  {
   "cell_type": "code",
   "execution_count": 10,
   "metadata": {},
   "outputs": [
    {
     "name": "stdout",
     "output_type": "stream",
     "text": [
      "QI.vonneumann_entropy(dm1.state) = 2.632001104147413\n",
      "QI.vonneumann_entropy(dm2.state) = 1.2933417177660989\n"
     ]
    },
    {
     "data": {
      "text/plain": [
       "1.2933417177660989"
      ]
     },
     "execution_count": 10,
     "metadata": {},
     "output_type": "execute_result"
    }
   ],
   "source": [
    "# get the entanglement entropy between system and env\n",
    "@show QI.vonneumann_entropy(dm1.state)\n",
    "@show QI.vonneumann_entropy(dm2.state)"
   ]
  },
  {
   "cell_type": "code",
   "execution_count": 11,
   "metadata": {},
   "outputs": [
    {
     "data": {
      "text/plain": [
       "1.727464949101496"
      ]
     },
     "execution_count": 11,
     "metadata": {},
     "output_type": "execute_result"
    }
   ],
   "source": [
    "# KL-divergence (or relative entropy)\n",
    "QI.kl_divergence(dm2.state, dm1.state)"
   ]
  },
  {
   "cell_type": "markdown",
   "metadata": {},
   "source": [
    "Note: you can defined many distances and entropies in a similar way, we don't enumerate it."
   ]
  },
  {
   "cell_type": "markdown",
   "metadata": {},
   "source": [
    "Quantum Operations/Quantum Gates\n",
    "------------------------\n",
    "\n",
    "A quantum gate in `Yao` is equivalent to a unitary channel in `QI`, matrix representations of blocks in `Yao` can be used to construct channels."
   ]
  },
  {
   "cell_type": "code",
   "execution_count": 23,
   "metadata": {},
   "outputs": [
    {
     "data": {
      "text/plain": [
       "\u001b[32m\u001b[1mTest Passed\u001b[22m\u001b[39m\n",
       "  Expression: ((copy(reg) |> Yao.chain(b1, b2)) |> Yao.density_matrix) |> Yao.state ≈ (c2 ∘ c1)((reg |> Yao.density_matrix) |> Yao.state)\n",
       "   Evaluated: ComplexF64[0.007685889275322289 + 0.0im -0.009977021258596053 - 0.009855156379047764im 0.050425125602665107 - 0.04974113723108121im -0.036121303372492815 + 0.03329457521138159im; -0.009977021258596053 + 0.009855156379047764im 0.02558780817743653 + 0.0im -0.0016765612617604625 + 0.12922588997185136im 0.004197271805229389 - 0.08953573924625202im; 0.050425125602665107 + 0.04974113723108121im -0.0016765612617604625 - 0.12922588997185136im 0.6527382642882836 + 0.0im -0.452456595399494 - 0.015330896253438902im; -0.036121303372492815 - 0.03329457521138159im 0.004197271805229389 + 0.08953573924625202im -0.452456595399494 + 0.015330896253438902im 0.31398803825895755 + 0.0im] ≈ ComplexF64[0.007685889275322329 + 3.469446951953614e-18im -0.009977021258596086 - 0.009855156379047755im 0.05042512560266519 - 0.049741137231081214im -0.0361213033724928 + 0.03329457521138162im; -0.009977021258596078 + 0.009855156379047783im 0.025587808177436562 + 6.938893903907228e-18im -0.0016765612617604653 + 0.12922588997185142im 0.004197271805229385 - 0.08953573924625206im; 0.05042512560266521 + 0.04974113723108117im -0.001676561261760523 - 0.12922588997185142im 0.6527382642882835 - 3.469446951953614e-17im -0.452456595399494 - 0.015330896253438892im; -0.03612130337249286 - 0.03329457521138163im 0.004197271805229413 + 0.08953573924625208im -0.452456595399494 + 0.015330896253438874im 0.3139880382589576 + 1.3877787807814457e-17im]"
      ]
     },
     "execution_count": 23,
     "metadata": {},
     "output_type": "execute_result"
    }
   ],
   "source": [
    "# applying a rotation gate\n",
    "b1 = Yao.put(2,2=>Yao.Rx(0.3π))\n",
    "c1 = QI.UnitaryChannel(mat(b1))\n",
    "b2 = Yao.put(2,2=>Yao.Ry(0.3π))\n",
    "c2 = QI.UnitaryChannel(mat(b2))\n",
    "\n",
    "reg = Yao.rand_state(2)\n",
    "@test copy(reg) |> b1 |> Yao.density_matrix |> Yao.state ≈ c1(reg |> Yao.density_matrix |> Yao.state)\n",
    "@test copy(reg) |> Yao.chain(b1,b2) |> Yao.density_matrix |> Yao.state ≈ (c2∘c1)(reg |> Yao.density_matrix |> Yao.state)"
   ]
  },
  {
   "cell_type": "markdown",
   "metadata": {},
   "source": [
    "For more general non-unitary operations, we need the Kraus operator."
   ]
  },
  {
   "cell_type": "code",
   "execution_count": 37,
   "metadata": {},
   "outputs": [
    {
     "data": {
      "text/plain": [
       "QuantumInformation.KrausOperators{Matrix{ComplexF64}}\n",
       "    dimensions: (4, 4)\n",
       "    ComplexF64[0.0 + 0.0im 0.5477225575051661 + 0.0im 0.0 + 0.0im 0.0 + 0.0im; 0.5477225575051661 + 0.0im 0.0 + 0.0im 0.0 + 0.0im 0.0 + 0.0im; 0.0 + 0.0im 0.0 + 0.0im 0.0 + 0.0im 0.5477225575051661 + 0.0im; 0.0 + 0.0im 0.0 + 0.0im 0.5477225575051661 + 0.0im 0.0 + 0.0im]\n",
       "    ComplexF64[0.0 + 0.0im 0.0 + 0.0im 0.0 - 0.6324555320336759im 0.0 + 0.0im; 0.0 + 0.0im 0.0 + 0.0im 0.0 + 0.0im 0.0 - 0.6324555320336759im; 0.0 + 0.6324555320336759im 0.0 + 0.0im 0.0 + 0.0im 0.0 + 0.0im; 0.0 + 0.0im 0.0 + 0.6324555320336759im 0.0 + 0.0im 0.0 + 0.0im]\n",
       "    ComplexF64[0.5477225575051661 + 0.0im 0.0 + 0.0im 0.0 + 0.0im 0.0 + 0.0im; 0.0 + 0.0im 0.5477225575051661 + 0.0im 0.0 + 0.0im 0.0 + 0.0im; 0.0 + 0.0im 0.0 + 0.0im -0.5477225575051661 + 0.0im 0.0 + 0.0im; 0.0 + 0.0im 0.0 + 0.0im 0.0 + 0.0im -0.5477225575051661 + 0.0im]"
      ]
     },
     "execution_count": 37,
     "metadata": {},
     "output_type": "execute_result"
    }
   ],
   "source": [
    "# construct a Kraus Operator\n",
    "ko = QI.KrausOperators([\n",
    "            sqrt(0.3)*Matrix(Yao.put(2, 1=>ConstGate.X)),\n",
    "            sqrt(0.4)*Matrix(Yao.put(2, 2=>ConstGate.Y)), \n",
    "            sqrt(0.3)*Matrix(Yao.put(2, 2=>ConstGate.Z))\n",
    "        ])"
   ]
  },
  {
   "cell_type": "markdown",
   "metadata": {},
   "source": [
    "It is equivalent to Yao's unitary channel defined as"
   ]
  },
  {
   "cell_type": "code",
   "execution_count": 38,
   "metadata": {},
   "outputs": [
    {
     "data": {
      "text/plain": [
       "\u001b[36mnqubits: 2\u001b[39m\n",
       "\u001b[0m\u001b[1munitary_channel\u001b[22m\n",
       "├─ \u001b[36m[0.3] \u001b[39m\u001b[36m\u001b[1mput on (\u001b[22m\u001b[39m\u001b[36m\u001b[1m1\u001b[22m\u001b[39m\u001b[36m\u001b[1m)\u001b[22m\u001b[39m\n",
       "│  └─ X\n",
       "├─ \u001b[36m[0.4] \u001b[39m\u001b[36m\u001b[1mput on (\u001b[22m\u001b[39m\u001b[36m\u001b[1m2\u001b[22m\u001b[39m\u001b[36m\u001b[1m)\u001b[22m\u001b[39m\n",
       "│  └─ Y\n",
       "└─ \u001b[36m[0.3] \u001b[39m\u001b[36m\u001b[1mput on (\u001b[22m\u001b[39m\u001b[36m\u001b[1m2\u001b[22m\u001b[39m\u001b[36m\u001b[1m)\u001b[22m\u001b[39m\n",
       "   └─ Z\n"
      ]
     },
     "execution_count": 38,
     "metadata": {},
     "output_type": "execute_result"
    }
   ],
   "source": [
    "uc = Yao.UnitaryChannel([Yao.put(2, 1=>ConstGate.X), Yao.put(2,2=>ConstGate.Y), Yao.put(2,2=>ConstGate.Z)],\n",
    "                        [0.3, 0.4, 0.3])"
   ]
  },
  {
   "cell_type": "code",
   "execution_count": 39,
   "metadata": {},
   "outputs": [
    {
     "name": "stdout",
     "output_type": "stream",
     "text": [
      "(w, o) = (0.4, nqubits: 2\n",
      "put on (2)\n",
      "└─ Y)\n"
     ]
    },
    {
     "data": {
      "text/plain": [
       "\u001b[32m\u001b[1mTest Passed\u001b[22m\u001b[39m\n",
       "  Expression: (Yao.apply(dm, uc)).state ≈ ko(dm.state)\n",
       "   Evaluated: ComplexF64[0.25953844977919793 + 0.0im 0.022064060477886942 - 0.055158213086358925im -0.027858223441154083 + 0.03880795039681731im 0.044931623972655925 - 0.04778982053282649im; 0.022064060477886942 + 0.055158213086358925im 0.2139156647108312 + 0.0im 0.03152068993990473 + 0.00972015313089635im 0.06654396872766964 - 0.0006186343373243836im; -0.027858223441154083 - 0.03880795039681731im 0.03152068993990473 - 0.00972015313089635im 0.2580427607974538 + 0.0im 0.04317374592198403 + 0.04019871360769118im; 0.044931623972655925 + 0.04778982053282649im 0.06654396872766964 + 0.0006186343373243836im 0.04317374592198403 - 0.04019871360769118im 0.26850312471251697 + 0.0im] ≈ ComplexF64[0.2595384497791979 + 0.0im 0.02206406047788695 - 0.055158213086358925im -0.02785822344115408 + 0.03880795039681731im 0.04493162397265592 - 0.04778982053282648im; 0.02206406047788695 + 0.055158213086358925im 0.21391566471083118 + 0.0im 0.031520689939904735 + 0.009720153130896343im 0.06654396872766964 - 0.0006186343373243836im; -0.02785822344115408 - 0.03880795039681731im 0.031520689939904735 - 0.009720153130896343im 0.2580427607974538 + 0.0im 0.04317374592198403 + 0.04019871360769116im; 0.04493162397265592 + 0.04778982053282648im 0.06654396872766964 + 0.0006186343373243836im 0.04317374592198403 - 0.04019871360769116im 0.26850312471251697 + 0.0im]"
      ]
     },
     "execution_count": 39,
     "metadata": {},
     "output_type": "execute_result"
    }
   ],
   "source": [
    "dm = Yao.density_matrix(Yao.rand_state(4), (1,2))\n",
    "@test Yao.apply(dm, uc).state ≈ ko(dm.state)"
   ]
  },
  {
   "cell_type": "code",
   "execution_count": null,
   "metadata": {},
   "outputs": [],
   "source": []
  }
 ],
 "metadata": {
  "@webio": {
   "lastCommId": null,
   "lastKernelId": null
  },
  "kernelspec": {
   "display_name": "Julia 1.7.3",
   "language": "julia",
   "name": "julia-1.7"
  },
  "language_info": {
   "file_extension": ".jl",
   "mimetype": "application/julia",
   "name": "julia",
   "version": "1.7.3"
  }
 },
 "nbformat": 4,
 "nbformat_minor": 2
}
